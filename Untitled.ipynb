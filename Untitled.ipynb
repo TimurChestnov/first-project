{
 "cells": [
  {
   "cell_type": "markdown",
   "id": "ab01f737",
   "metadata": {},
   "source": [
    "<h1>Содержание<span class=\"tocSkip\"></span></h1>\n",
    "<div class=\"toc\"><ul class=\"toc-item\"><li><span><a href=\"#Подготовка-данных\" data-toc-modified-id=\"Подготовка-данных-1\"><span class=\"toc-item-num\">1&nbsp;&nbsp;</span>Подготовка данных</a></span></li><li><span><a href=\"#Исследование-задачи\" data-toc-modified-id=\"Исследование-задачи-2\"><span class=\"toc-item-num\">2&nbsp;&nbsp;</span>Исследование задачи</a></span></li><li><span><a href=\"#Борьба-с-дисбалансом\" data-toc-modified-id=\"Борьба-с-дисбалансом-3\"><span class=\"toc-item-num\">3&nbsp;&nbsp;</span>Борьба с дисбалансом</a></span></li><li><span><a href=\"#Тестирование-модели\" data-toc-modified-id=\"Тестирование-модели-4\"><span class=\"toc-item-num\">4&nbsp;&nbsp;</span>Тестирование модели</a></span></li><li><span><a href=\"#Чек-лист-готовности-проекта\" data-toc-modified-id=\"Чек-лист-готовности-проекта-5\"><span class=\"toc-item-num\">5&nbsp;&nbsp;</span>Чек-лист готовности проекта</a></span></li></ul></div>"
   ]
  },
  {
   "cell_type": "markdown",
   "id": "0569343a",
   "metadata": {},
   "source": [
    "# Отток клиентов"
   ]
  },
  {
   "cell_type": "markdown",
   "id": "b8306751",
   "metadata": {},
   "source": [
    "Из «Бета-Банка» стали уходить клиенты. Каждый месяц. Немного, но заметно. Банковские маркетологи посчитали: сохранять текущих клиентов дешевле, чем привлекать новых.\n",
    "\n",
    "Нужно спрогнозировать, уйдёт клиент из банка в ближайшее время или нет. Вам предоставлены исторические данные о поведении клиентов и расторжении договоров с банком. \n",
    "\n",
    "Постройте модель с предельно большим значением *F1*-меры. Чтобы сдать проект успешно, нужно довести метрику до 0.59. Проверьте *F1*-меру на тестовой выборке самостоятельно.\n",
    "\n",
    "Дополнительно измеряйте *AUC-ROC*, сравнивайте её значение с *F1*-мерой.\n",
    "\n",
    "Источник данных: [https://www.kaggle.com/barelydedicated/bank-customer-churn-modeling](https://www.kaggle.com/barelydedicated/bank-customer-churn-modeling)"
   ]
  },
  {
   "cell_type": "markdown",
   "id": "ada75377",
   "metadata": {},
   "source": [
    "## Подготовка данных"
   ]
  },
  {
   "cell_type": "code",
   "execution_count": 1,
   "id": "fd2b168d",
   "metadata": {},
   "outputs": [],
   "source": [
    "import pandas as pd\n",
    "\n",
    "# Загрузка данных\n",
    "df = pd.read_csv('C:/dataset/Churn.csv')"
   ]
  },
  {
   "cell_type": "code",
   "execution_count": 2,
   "id": "c105d1ee-4d66-4ae6-8f6a-1d075b415197",
   "metadata": {},
   "outputs": [
    {
     "name": "stdout",
     "output_type": "stream",
     "text": [
      "RowNumber            0\n",
      "CustomerId           0\n",
      "Surname              0\n",
      "CreditScore          0\n",
      "Geography            0\n",
      "Gender               0\n",
      "Age                  0\n",
      "Tenure             909\n",
      "Balance              0\n",
      "NumOfProducts        0\n",
      "HasCrCard            0\n",
      "IsActiveMember       0\n",
      "EstimatedSalary      0\n",
      "Exited               0\n",
      "dtype: int64\n"
     ]
    }
   ],
   "source": [
    "# Проверка на пропущенные значения\n",
    "missing_values = df.isnull().sum()\n",
    "print(missing_values)"
   ]
  },
  {
   "cell_type": "code",
   "execution_count": 4,
   "id": "a87e283a",
   "metadata": {},
   "outputs": [
    {
     "data": {
      "text/plain": [
       "1.0     952\n",
       "2.0     950\n",
       "8.0     933\n",
       "3.0     928\n",
       "5.0     927\n",
       "7.0     925\n",
       "4.0     885\n",
       "9.0     882\n",
       "6.0     881\n",
       "10.0    446\n",
       "0.0     382\n",
       "Name: Tenure, dtype: int64"
      ]
     },
     "execution_count": 4,
     "metadata": {},
     "output_type": "execute_result"
    }
   ],
   "source": [
    "# Удаляем строки с пропущенными значениями в столбце \"Tenure\", \n",
    "# так как их едва на 10% и их удаление едва ли сильно изменит результат обучения\n",
    "df.dropna(subset=['Tenure'], inplace=True)\n",
    "\n",
    "#убедились, что все наны удалены\n",
    "df['Tenure'].value_counts()"
   ]
  },
  {
   "cell_type": "code",
   "execution_count": 5,
   "id": "4ff1b07e-5c16-4228-b931-fc178c3d4d25",
   "metadata": {},
   "outputs": [
    {
     "name": "stdout",
     "output_type": "stream",
     "text": [
      "<class 'pandas.core.frame.DataFrame'>\n",
      "Int64Index: 9091 entries, 0 to 9998\n",
      "Data columns (total 14 columns):\n",
      " #   Column           Non-Null Count  Dtype  \n",
      "---  ------           --------------  -----  \n",
      " 0   RowNumber        9091 non-null   int64  \n",
      " 1   CustomerId       9091 non-null   int64  \n",
      " 2   Surname          9091 non-null   object \n",
      " 3   CreditScore      9091 non-null   int64  \n",
      " 4   Geography        9091 non-null   object \n",
      " 5   Gender           9091 non-null   object \n",
      " 6   Age              9091 non-null   int64  \n",
      " 7   Tenure           9091 non-null   float64\n",
      " 8   Balance          9091 non-null   float64\n",
      " 9   NumOfProducts    9091 non-null   int64  \n",
      " 10  HasCrCard        9091 non-null   int64  \n",
      " 11  IsActiveMember   9091 non-null   int64  \n",
      " 12  EstimatedSalary  9091 non-null   float64\n",
      " 13  Exited           9091 non-null   int64  \n",
      "dtypes: float64(3), int64(8), object(3)\n",
      "memory usage: 1.0+ MB\n"
     ]
    }
   ],
   "source": [
    "df.info()"
   ]
  },
  {
   "cell_type": "code",
   "execution_count": 6,
   "id": "a93dba8d-5d28-4811-9433-3926422b46e6",
   "metadata": {},
   "outputs": [
    {
     "data": {
      "text/html": [
       "<div>\n",
       "<style scoped>\n",
       "    .dataframe tbody tr th:only-of-type {\n",
       "        vertical-align: middle;\n",
       "    }\n",
       "\n",
       "    .dataframe tbody tr th {\n",
       "        vertical-align: top;\n",
       "    }\n",
       "\n",
       "    .dataframe thead th {\n",
       "        text-align: right;\n",
       "    }\n",
       "</style>\n",
       "<table border=\"1\" class=\"dataframe\">\n",
       "  <thead>\n",
       "    <tr style=\"text-align: right;\">\n",
       "      <th></th>\n",
       "      <th>RowNumber</th>\n",
       "      <th>CustomerId</th>\n",
       "      <th>Surname</th>\n",
       "      <th>CreditScore</th>\n",
       "      <th>Geography</th>\n",
       "      <th>Gender</th>\n",
       "      <th>Age</th>\n",
       "      <th>Tenure</th>\n",
       "      <th>Balance</th>\n",
       "      <th>NumOfProducts</th>\n",
       "      <th>HasCrCard</th>\n",
       "      <th>IsActiveMember</th>\n",
       "      <th>EstimatedSalary</th>\n",
       "      <th>Exited</th>\n",
       "    </tr>\n",
       "  </thead>\n",
       "  <tbody>\n",
       "    <tr>\n",
       "      <th>0</th>\n",
       "      <td>1</td>\n",
       "      <td>15634602</td>\n",
       "      <td>Hargrave</td>\n",
       "      <td>619</td>\n",
       "      <td>France</td>\n",
       "      <td>Female</td>\n",
       "      <td>42</td>\n",
       "      <td>2.0</td>\n",
       "      <td>0.00</td>\n",
       "      <td>1</td>\n",
       "      <td>1</td>\n",
       "      <td>1</td>\n",
       "      <td>101348.88</td>\n",
       "      <td>1</td>\n",
       "    </tr>\n",
       "    <tr>\n",
       "      <th>1</th>\n",
       "      <td>2</td>\n",
       "      <td>15647311</td>\n",
       "      <td>Hill</td>\n",
       "      <td>608</td>\n",
       "      <td>Spain</td>\n",
       "      <td>Female</td>\n",
       "      <td>41</td>\n",
       "      <td>1.0</td>\n",
       "      <td>83807.86</td>\n",
       "      <td>1</td>\n",
       "      <td>0</td>\n",
       "      <td>1</td>\n",
       "      <td>112542.58</td>\n",
       "      <td>0</td>\n",
       "    </tr>\n",
       "    <tr>\n",
       "      <th>2</th>\n",
       "      <td>3</td>\n",
       "      <td>15619304</td>\n",
       "      <td>Onio</td>\n",
       "      <td>502</td>\n",
       "      <td>France</td>\n",
       "      <td>Female</td>\n",
       "      <td>42</td>\n",
       "      <td>8.0</td>\n",
       "      <td>159660.80</td>\n",
       "      <td>3</td>\n",
       "      <td>1</td>\n",
       "      <td>0</td>\n",
       "      <td>113931.57</td>\n",
       "      <td>1</td>\n",
       "    </tr>\n",
       "    <tr>\n",
       "      <th>3</th>\n",
       "      <td>4</td>\n",
       "      <td>15701354</td>\n",
       "      <td>Boni</td>\n",
       "      <td>699</td>\n",
       "      <td>France</td>\n",
       "      <td>Female</td>\n",
       "      <td>39</td>\n",
       "      <td>1.0</td>\n",
       "      <td>0.00</td>\n",
       "      <td>2</td>\n",
       "      <td>0</td>\n",
       "      <td>0</td>\n",
       "      <td>93826.63</td>\n",
       "      <td>0</td>\n",
       "    </tr>\n",
       "    <tr>\n",
       "      <th>4</th>\n",
       "      <td>5</td>\n",
       "      <td>15737888</td>\n",
       "      <td>Mitchell</td>\n",
       "      <td>850</td>\n",
       "      <td>Spain</td>\n",
       "      <td>Female</td>\n",
       "      <td>43</td>\n",
       "      <td>2.0</td>\n",
       "      <td>125510.82</td>\n",
       "      <td>1</td>\n",
       "      <td>1</td>\n",
       "      <td>1</td>\n",
       "      <td>79084.10</td>\n",
       "      <td>0</td>\n",
       "    </tr>\n",
       "  </tbody>\n",
       "</table>\n",
       "</div>"
      ],
      "text/plain": [
       "   RowNumber  CustomerId   Surname  CreditScore Geography  Gender  Age  \\\n",
       "0          1    15634602  Hargrave          619    France  Female   42   \n",
       "1          2    15647311      Hill          608     Spain  Female   41   \n",
       "2          3    15619304      Onio          502    France  Female   42   \n",
       "3          4    15701354      Boni          699    France  Female   39   \n",
       "4          5    15737888  Mitchell          850     Spain  Female   43   \n",
       "\n",
       "   Tenure    Balance  NumOfProducts  HasCrCard  IsActiveMember  \\\n",
       "0     2.0       0.00              1          1               1   \n",
       "1     1.0   83807.86              1          0               1   \n",
       "2     8.0  159660.80              3          1               0   \n",
       "3     1.0       0.00              2          0               0   \n",
       "4     2.0  125510.82              1          1               1   \n",
       "\n",
       "   EstimatedSalary  Exited  \n",
       "0        101348.88       1  \n",
       "1        112542.58       0  \n",
       "2        113931.57       1  \n",
       "3         93826.63       0  \n",
       "4         79084.10       0  "
      ]
     },
     "execution_count": 6,
     "metadata": {},
     "output_type": "execute_result"
    }
   ],
   "source": [
    "df.head()"
   ]
  },
  {
   "cell_type": "code",
   "execution_count": 8,
   "id": "932cd24c-180b-4f2b-9c24-6211687124c1",
   "metadata": {},
   "outputs": [
    {
     "name": "stdout",
     "output_type": "stream",
     "text": [
      "Количество строк: 9091\n",
      "Количество столбцов: 14\n"
     ]
    }
   ],
   "source": [
    "print(\"Количество строк:\", df.shape[0])\n",
    "print(\"Количество столбцов:\", df.shape[1])"
   ]
  },
  {
   "cell_type": "code",
   "execution_count": 9,
   "id": "431d81c0-74f0-47c7-b882-090176f7d270",
   "metadata": {},
   "outputs": [
    {
     "data": {
      "text/html": [
       "<div>\n",
       "<style scoped>\n",
       "    .dataframe tbody tr th:only-of-type {\n",
       "        vertical-align: middle;\n",
       "    }\n",
       "\n",
       "    .dataframe tbody tr th {\n",
       "        vertical-align: top;\n",
       "    }\n",
       "\n",
       "    .dataframe thead th {\n",
       "        text-align: right;\n",
       "    }\n",
       "</style>\n",
       "<table border=\"1\" class=\"dataframe\">\n",
       "  <thead>\n",
       "    <tr style=\"text-align: right;\">\n",
       "      <th></th>\n",
       "      <th>RowNumber</th>\n",
       "      <th>CustomerId</th>\n",
       "      <th>CreditScore</th>\n",
       "      <th>Age</th>\n",
       "      <th>Tenure</th>\n",
       "      <th>Balance</th>\n",
       "      <th>NumOfProducts</th>\n",
       "      <th>HasCrCard</th>\n",
       "      <th>IsActiveMember</th>\n",
       "      <th>EstimatedSalary</th>\n",
       "      <th>Exited</th>\n",
       "    </tr>\n",
       "  </thead>\n",
       "  <tbody>\n",
       "    <tr>\n",
       "      <th>count</th>\n",
       "      <td>9091.000000</td>\n",
       "      <td>9.091000e+03</td>\n",
       "      <td>9091.000000</td>\n",
       "      <td>9091.000000</td>\n",
       "      <td>9091.000000</td>\n",
       "      <td>9091.000000</td>\n",
       "      <td>9091.000000</td>\n",
       "      <td>9091.000000</td>\n",
       "      <td>9091.000000</td>\n",
       "      <td>9091.000000</td>\n",
       "      <td>9091.000000</td>\n",
       "    </tr>\n",
       "    <tr>\n",
       "      <th>mean</th>\n",
       "      <td>5013.909911</td>\n",
       "      <td>1.569105e+07</td>\n",
       "      <td>650.736553</td>\n",
       "      <td>38.949181</td>\n",
       "      <td>4.997690</td>\n",
       "      <td>76522.740015</td>\n",
       "      <td>1.530195</td>\n",
       "      <td>0.704983</td>\n",
       "      <td>0.515565</td>\n",
       "      <td>100181.214924</td>\n",
       "      <td>0.203938</td>\n",
       "    </tr>\n",
       "    <tr>\n",
       "      <th>std</th>\n",
       "      <td>2884.433466</td>\n",
       "      <td>7.161419e+04</td>\n",
       "      <td>96.410471</td>\n",
       "      <td>10.555581</td>\n",
       "      <td>2.894723</td>\n",
       "      <td>62329.528576</td>\n",
       "      <td>0.581003</td>\n",
       "      <td>0.456076</td>\n",
       "      <td>0.499785</td>\n",
       "      <td>57624.755647</td>\n",
       "      <td>0.402946</td>\n",
       "    </tr>\n",
       "    <tr>\n",
       "      <th>min</th>\n",
       "      <td>1.000000</td>\n",
       "      <td>1.556570e+07</td>\n",
       "      <td>350.000000</td>\n",
       "      <td>18.000000</td>\n",
       "      <td>0.000000</td>\n",
       "      <td>0.000000</td>\n",
       "      <td>1.000000</td>\n",
       "      <td>0.000000</td>\n",
       "      <td>0.000000</td>\n",
       "      <td>11.580000</td>\n",
       "      <td>0.000000</td>\n",
       "    </tr>\n",
       "    <tr>\n",
       "      <th>25%</th>\n",
       "      <td>2521.500000</td>\n",
       "      <td>1.562899e+07</td>\n",
       "      <td>584.000000</td>\n",
       "      <td>32.000000</td>\n",
       "      <td>2.000000</td>\n",
       "      <td>0.000000</td>\n",
       "      <td>1.000000</td>\n",
       "      <td>0.000000</td>\n",
       "      <td>0.000000</td>\n",
       "      <td>51227.745000</td>\n",
       "      <td>0.000000</td>\n",
       "    </tr>\n",
       "    <tr>\n",
       "      <th>50%</th>\n",
       "      <td>5019.000000</td>\n",
       "      <td>1.569106e+07</td>\n",
       "      <td>652.000000</td>\n",
       "      <td>37.000000</td>\n",
       "      <td>5.000000</td>\n",
       "      <td>97318.250000</td>\n",
       "      <td>1.000000</td>\n",
       "      <td>1.000000</td>\n",
       "      <td>1.000000</td>\n",
       "      <td>100240.200000</td>\n",
       "      <td>0.000000</td>\n",
       "    </tr>\n",
       "    <tr>\n",
       "      <th>75%</th>\n",
       "      <td>7511.500000</td>\n",
       "      <td>1.575285e+07</td>\n",
       "      <td>717.000000</td>\n",
       "      <td>44.000000</td>\n",
       "      <td>7.000000</td>\n",
       "      <td>127561.890000</td>\n",
       "      <td>2.000000</td>\n",
       "      <td>1.000000</td>\n",
       "      <td>1.000000</td>\n",
       "      <td>149567.210000</td>\n",
       "      <td>0.000000</td>\n",
       "    </tr>\n",
       "    <tr>\n",
       "      <th>max</th>\n",
       "      <td>9999.000000</td>\n",
       "      <td>1.581566e+07</td>\n",
       "      <td>850.000000</td>\n",
       "      <td>92.000000</td>\n",
       "      <td>10.000000</td>\n",
       "      <td>250898.090000</td>\n",
       "      <td>4.000000</td>\n",
       "      <td>1.000000</td>\n",
       "      <td>1.000000</td>\n",
       "      <td>199992.480000</td>\n",
       "      <td>1.000000</td>\n",
       "    </tr>\n",
       "  </tbody>\n",
       "</table>\n",
       "</div>"
      ],
      "text/plain": [
       "         RowNumber    CustomerId  CreditScore          Age       Tenure  \\\n",
       "count  9091.000000  9.091000e+03  9091.000000  9091.000000  9091.000000   \n",
       "mean   5013.909911  1.569105e+07   650.736553    38.949181     4.997690   \n",
       "std    2884.433466  7.161419e+04    96.410471    10.555581     2.894723   \n",
       "min       1.000000  1.556570e+07   350.000000    18.000000     0.000000   \n",
       "25%    2521.500000  1.562899e+07   584.000000    32.000000     2.000000   \n",
       "50%    5019.000000  1.569106e+07   652.000000    37.000000     5.000000   \n",
       "75%    7511.500000  1.575285e+07   717.000000    44.000000     7.000000   \n",
       "max    9999.000000  1.581566e+07   850.000000    92.000000    10.000000   \n",
       "\n",
       "             Balance  NumOfProducts    HasCrCard  IsActiveMember  \\\n",
       "count    9091.000000    9091.000000  9091.000000     9091.000000   \n",
       "mean    76522.740015       1.530195     0.704983        0.515565   \n",
       "std     62329.528576       0.581003     0.456076        0.499785   \n",
       "min         0.000000       1.000000     0.000000        0.000000   \n",
       "25%         0.000000       1.000000     0.000000        0.000000   \n",
       "50%     97318.250000       1.000000     1.000000        1.000000   \n",
       "75%    127561.890000       2.000000     1.000000        1.000000   \n",
       "max    250898.090000       4.000000     1.000000        1.000000   \n",
       "\n",
       "       EstimatedSalary       Exited  \n",
       "count      9091.000000  9091.000000  \n",
       "mean     100181.214924     0.203938  \n",
       "std       57624.755647     0.402946  \n",
       "min          11.580000     0.000000  \n",
       "25%       51227.745000     0.000000  \n",
       "50%      100240.200000     0.000000  \n",
       "75%      149567.210000     0.000000  \n",
       "max      199992.480000     1.000000  "
      ]
     },
     "execution_count": 9,
     "metadata": {},
     "output_type": "execute_result"
    }
   ],
   "source": [
    "df.describe()"
   ]
  },
  {
   "cell_type": "code",
   "execution_count": 10,
   "id": "fa95559c-040e-433e-9fb6-ae64f310feba",
   "metadata": {},
   "outputs": [
    {
     "name": "stdout",
     "output_type": "stream",
     "text": [
      "      CreditScore Geography  Gender  Age  Tenure    Balance  NumOfProducts  \\\n",
      "0             619    France  Female   42     2.0       0.00              1   \n",
      "1             608     Spain  Female   41     1.0   83807.86              1   \n",
      "2             502    France  Female   42     8.0  159660.80              3   \n",
      "3             699    France  Female   39     1.0       0.00              2   \n",
      "4             850     Spain  Female   43     2.0  125510.82              1   \n",
      "...           ...       ...     ...  ...     ...        ...            ...   \n",
      "9994          800    France  Female   29     2.0       0.00              2   \n",
      "9995          771    France    Male   39     5.0       0.00              2   \n",
      "9996          516    France    Male   35    10.0   57369.61              1   \n",
      "9997          709    France  Female   36     7.0       0.00              1   \n",
      "9998          772   Germany    Male   42     3.0   75075.31              2   \n",
      "\n",
      "      HasCrCard  IsActiveMember  EstimatedSalary  Exited  \n",
      "0             1               1        101348.88       1  \n",
      "1             0               1        112542.58       0  \n",
      "2             1               0        113931.57       1  \n",
      "3             0               0         93826.63       0  \n",
      "4             1               1         79084.10       0  \n",
      "...         ...             ...              ...     ...  \n",
      "9994          0               0        167773.55       0  \n",
      "9995          1               0         96270.64       0  \n",
      "9996          1               1        101699.77       0  \n",
      "9997          0               1         42085.58       1  \n",
      "9998          1               0         92888.52       1  \n",
      "\n",
      "[9091 rows x 11 columns]\n"
     ]
    }
   ],
   "source": [
    "df = df.drop(columns=['RowNumber', 'CustomerId', 'Surname'])\n",
    "print(df)"
   ]
  },
  {
   "cell_type": "code",
   "execution_count": 11,
   "id": "0b74b7b9-bc41-4b59-a2b4-4e146fecc1fe",
   "metadata": {},
   "outputs": [],
   "source": [
    "from sklearn.model_selection import train_test_split\n",
    "\n",
    "train_test_splitdf_ohe = pd.get_dummies(df, drop_first=True)\n",
    "target = train_test_splitdf_ohe['Exited']\n",
    "features = train_test_splitdf_ohe.drop('Exited', axis=1)\n",
    "\n",
    "features_train, features_valid, target_train, target_valid = train_test_split(features, target, test_size=0.25, random_state=12345)\n",
    "features_valid, features_test, target_valid, target_test = train_test_split(features_valid, target_valid, test_size=0.5, random_state=12345)"
   ]
  },
  {
   "cell_type": "code",
   "execution_count": 12,
   "id": "29a9a6b6-d717-4524-9eb5-fbf121350351",
   "metadata": {},
   "outputs": [
    {
     "name": "stdout",
     "output_type": "stream",
     "text": [
      "features_train:       CreditScore  Age  Tenure    Balance  NumOfProducts  HasCrCard  \\\n",
      "1507          549   43     3.0  134985.66              1          1   \n",
      "7431          678   38     3.0       0.00              2          1   \n",
      "7509          545   37     9.0   95829.13              2          0   \n",
      "5674          540   28     8.0       0.00              2          0   \n",
      "7363          603   40     4.0  102833.46              2          1   \n",
      "...           ...  ...     ...        ...            ...        ...   \n",
      "4938          773   34    10.0  126979.75              1          0   \n",
      "4529          664   44     8.0  142989.69              1          1   \n",
      "3866          547   29     6.0  104450.86              1          1   \n",
      "2414          556   52     9.0       0.00              1          1   \n",
      "5056          767   23     2.0  139542.82              1          0   \n",
      "\n",
      "      IsActiveMember  EstimatedSalary  Geography_Germany  Geography_Spain  \\\n",
      "1507               0          6101.41                  1                0   \n",
      "7431               0         66561.60                  0                0   \n",
      "7509               1        104936.88                  1                0   \n",
      "5674               0        197588.32                  0                1   \n",
      "7363               1         38829.11                  0                0   \n",
      "...              ...              ...                ...              ...   \n",
      "4938               0         36823.28                  1                0   \n",
      "4529               1        115452.51                  0                0   \n",
      "3866               1         37160.28                  0                0   \n",
      "2414               0        175149.20                  0                0   \n",
      "5056               1         28038.28                  1                0   \n",
      "\n",
      "      Gender_Male  \n",
      "1507            0  \n",
      "7431            1  \n",
      "7509            1  \n",
      "5674            1  \n",
      "7363            1  \n",
      "...           ...  \n",
      "4938            1  \n",
      "4529            0  \n",
      "3866            0  \n",
      "2414            0  \n",
      "5056            1  \n",
      "\n",
      "[6818 rows x 11 columns]\n"
     ]
    }
   ],
   "source": [
    "print(\"features_train:\", features_train)"
   ]
  },
  {
   "cell_type": "code",
   "execution_count": 14,
   "id": "569d7526-98fc-4556-b17b-3b3987905618",
   "metadata": {},
   "outputs": [
    {
     "name": "stdout",
     "output_type": "stream",
     "text": [
      "features_valid:       CreditScore  Age  Tenure    Balance  NumOfProducts  HasCrCard  \\\n",
      "4403          602   43     2.0  113641.49              4          1   \n",
      "5409          575   28     7.0       0.00              1          1   \n",
      "7915          695   56     1.0       0.00              3          1   \n",
      "5654          677   43     3.0  133214.88              2          1   \n",
      "6630          741   36     3.0       0.00              2          1   \n",
      "...           ...  ...     ...        ...            ...        ...   \n",
      "2993          745   59     8.0       0.00              1          1   \n",
      "5480          765   34     8.0  136729.51              2          0   \n",
      "6048          707   36     6.0       0.00              1          0   \n",
      "2232          649   36     8.0       0.00              2          1   \n",
      "2460          660   41     1.0  129901.21              1          1   \n",
      "\n",
      "      IsActiveMember  EstimatedSalary  Geography_Germany  Geography_Spain  \\\n",
      "4403               0        115116.35                  1                0   \n",
      "5409               1         10666.05                  0                1   \n",
      "7915               0        187734.49                  0                1   \n",
      "5654               1         95936.84                  0                1   \n",
      "6630               1         89804.83                  0                0   \n",
      "...              ...              ...                ...              ...   \n",
      "2993               1         36124.98                  0                1   \n",
      "5480               0         47058.21                  1                0   \n",
      "6048               0         98810.78                  0                0   \n",
      "2232               0        161668.15                  0                1   \n",
      "2460               0         26025.60                  1                0   \n",
      "\n",
      "      Gender_Male  \n",
      "4403            0  \n",
      "5409            1  \n",
      "7915            1  \n",
      "5654            0  \n",
      "6630            0  \n",
      "...           ...  \n",
      "2993            0  \n",
      "5480            0  \n",
      "6048            0  \n",
      "2232            1  \n",
      "2460            1  \n",
      "\n",
      "[1136 rows x 11 columns]\n"
     ]
    }
   ],
   "source": [
    "print(\"features_valid:\", features_valid)"
   ]
  },
  {
   "cell_type": "code",
   "execution_count": 15,
   "id": "5150b42d-1c30-42a9-ab42-18c2ab54bad9",
   "metadata": {},
   "outputs": [
    {
     "name": "stdout",
     "output_type": "stream",
     "text": [
      "features_test:       CreditScore  Age  Tenure    Balance  NumOfProducts  HasCrCard  \\\n",
      "3777          543   31     2.0  147674.26              1          1   \n",
      "7611          751   38     7.0       0.00              2          0   \n",
      "9651          469   33     1.0  127818.52              1          1   \n",
      "8114          492   49     2.0  151249.45              2          1   \n",
      "3914          658   44     2.0  168396.34              1          1   \n",
      "...           ...  ...     ...        ...            ...        ...   \n",
      "2594          537   47     6.0  103163.35              1          1   \n",
      "5859          721   38     7.0       0.00              1          0   \n",
      "8053          686   29     3.0  185379.02              1          1   \n",
      "2442          680   34     1.0       0.00              2          1   \n",
      "6650          758   41    10.0   79857.64              1          1   \n",
      "\n",
      "      IsActiveMember  EstimatedSalary  Geography_Germany  Geography_Spain  \\\n",
      "3777               1         16658.76                  0                0   \n",
      "7611               0         90839.61                  0                1   \n",
      "9651               0        163477.22                  0                0   \n",
      "8114               1        167237.94                  1                0   \n",
      "3914               1         14178.73                  0                0   \n",
      "...              ...              ...                ...              ...   \n",
      "2594               0         16259.64                  1                0   \n",
      "5859               1         53534.80                  0                1   \n",
      "8053               0         64679.07                  1                0   \n",
      "2442               0        167035.07                  0                0   \n",
      "6650               1         78088.17                  1                0   \n",
      "\n",
      "      Gender_Male  \n",
      "3777            0  \n",
      "7611            1  \n",
      "9651            1  \n",
      "8114            0  \n",
      "3914            1  \n",
      "...           ...  \n",
      "2594            0  \n",
      "5859            1  \n",
      "8053            1  \n",
      "2442            0  \n",
      "6650            1  \n",
      "\n",
      "[1137 rows x 11 columns]\n"
     ]
    }
   ],
   "source": [
    "print(\"features_test:\", features_test)"
   ]
  },
  {
   "cell_type": "code",
   "execution_count": 16,
   "id": "34d8a445-f8a4-49cf-8088-d9623e4458e2",
   "metadata": {},
   "outputs": [
    {
     "name": "stdout",
     "output_type": "stream",
     "text": [
      "target_train: 1507    0\n",
      "7431    0\n",
      "7509    0\n",
      "5674    0\n",
      "7363    0\n",
      "       ..\n",
      "4938    0\n",
      "4529    1\n",
      "3866    0\n",
      "2414    1\n",
      "5056    0\n",
      "Name: Exited, Length: 6818, dtype: int64\n"
     ]
    }
   ],
   "source": [
    "print(\"target_train:\", target_train)"
   ]
  },
  {
   "cell_type": "code",
   "execution_count": 17,
   "id": "817a5ea6-0f2d-4aa0-98a2-0f9940ab1d65",
   "metadata": {},
   "outputs": [
    {
     "name": "stdout",
     "output_type": "stream",
     "text": [
      "target_valid: 4403    1\n",
      "5409    0\n",
      "7915    1\n",
      "5654    0\n",
      "6630    0\n",
      "       ..\n",
      "2993    0\n",
      "5480    0\n",
      "6048    0\n",
      "2232    0\n",
      "2460    1\n",
      "Name: Exited, Length: 1136, dtype: int64\n"
     ]
    }
   ],
   "source": [
    "print(\"target_valid:\", target_valid)"
   ]
  },
  {
   "cell_type": "code",
   "execution_count": 18,
   "id": "bb771998-97e7-40f8-81a4-c89355f69fc3",
   "metadata": {},
   "outputs": [
    {
     "name": "stdout",
     "output_type": "stream",
     "text": [
      "target_test: 3777    0\n",
      "7611    0\n",
      "9651    0\n",
      "8114    0\n",
      "3914    0\n",
      "       ..\n",
      "2594    1\n",
      "5859    0\n",
      "8053    0\n",
      "2442    0\n",
      "6650    0\n",
      "Name: Exited, Length: 1137, dtype: int64\n"
     ]
    }
   ],
   "source": [
    "print(\"target_test:\", target_test)"
   ]
  },
  {
   "cell_type": "markdown",
   "id": "3318c350-1de6-40bd-a780-e0ae77e1b4fe",
   "metadata": {},
   "source": [
    "## Исследование задачи"
   ]
  },
  {
   "cell_type": "code",
   "execution_count": 19,
   "id": "f9685432-6635-4857-a797-f2943768a27e",
   "metadata": {},
   "outputs": [
    {
     "data": {
      "text/plain": [
       "0    7237\n",
       "1    1854\n",
       "Name: Exited, dtype: int64"
      ]
     },
     "execution_count": 19,
     "metadata": {},
     "output_type": "execute_result"
    }
   ],
   "source": [
    "df['Exited'].value_counts()"
   ]
  },
  {
   "cell_type": "code",
   "execution_count": 20,
   "id": "59e82dbb-5c61-48b3-9707-add8e64e1b9a",
   "metadata": {},
   "outputs": [
    {
     "name": "stdout",
     "output_type": "stream",
     "text": [
      "f1 = 50 : 0.5722222222222223\n",
      "f1 = 60 : 0.5730337078651686\n",
      "f1 = 70 : 0.57703081232493\n",
      "f1 = 80 : 0.5633802816901409\n",
      "f1 = 90 : 0.5633802816901409\n",
      "f1 = 100 : 0.5754189944134078\n",
      "f1 = 110 : 0.573816155988858\n"
     ]
    }
   ],
   "source": [
    "#случайный лес\n",
    "from sklearn.ensemble import RandomForestClassifier\n",
    "from sklearn.metrics import f1_score\n",
    "\n",
    "for estim in range(50, 120, 10):\n",
    "    model = RandomForestClassifier(n_estimators=estim, random_state=12345, max_depth=10)\n",
    "    model.fit(features_train, target_train)\n",
    "    #model.fit(features_valid, target_valid)\n",
    "    \n",
    "    #predictions_test = model.predict(features_test)\n",
    "    predicted_valid = model.predict(features_valid)\n",
    "    f1 = f1_score(target_valid, predicted_valid)\n",
    "    print(\"f1 =\", estim, \":\", f1)"
   ]
  },
  {
   "cell_type": "code",
   "execution_count": 22,
   "id": "9671ce75-6520-4381-8b4c-083352ac5634",
   "metadata": {},
   "outputs": [
    {
     "name": "stdout",
     "output_type": "stream",
     "text": [
      "0.8672761301468471\n"
     ]
    }
   ],
   "source": [
    "from sklearn.metrics import roc_auc_score\n",
    "\n",
    "probabilities_valid1 = model.predict_proba(features_valid)\n",
    "probabilities_one_valid1 = probabilities_valid1[:, 1]\n",
    "\n",
    "\n",
    "auc_roc1 = roc_auc_score(target_valid, probabilities_one_valid1)\n",
    "print(auc_roc1)"
   ]
  },
  {
   "cell_type": "code",
   "execution_count": 24,
   "id": "833ce66d-15ae-4b76-b72e-22d8fd07d6a6",
   "metadata": {},
   "outputs": [
    {
     "name": "stdout",
     "output_type": "stream",
     "text": [
      "n_depth = 2 : 0.5643564356435643\n",
      "n_depth = 3 : 0.44012944983818775\n",
      "n_depth = 4 : 0.5730027548209367\n",
      "n_depth = 5 : 0.5212121212121212\n",
      "n_depth = 6 : 0.5754189944134078\n",
      "n_depth = 7 : 0.5729166666666667\n",
      "n_depth = 8 : 0.5464190981432361\n",
      "n_depth = 9 : 0.5343511450381679\n",
      "n_depth = 10 : 0.4961636828644501\n",
      "n_depth = 11 : 0.5206812652068126\n",
      "n_depth = 12 : 0.4964200477326968\n",
      "n_depth = 13 : 0.5069767441860464\n",
      "n_depth = 14 : 0.48291571753986334\n"
     ]
    }
   ],
   "source": [
    "from sklearn.tree import DecisionTreeClassifier\n",
    "\n",
    "#решающее дерево\n",
    "for depth in range(2, 15):\n",
    "    model = DecisionTreeClassifier(random_state=12345, max_depth=depth)\n",
    "    model.fit(features_train, target_train)\n",
    "    #model.fit(features_valid, target_valid)\n",
    "    \n",
    "    #predictions_test = model.predict(features_test)\n",
    "    predicted_valid = model.predict(features_valid)\n",
    "    f1_2 = f1_score(target_valid, predicted_valid)\n",
    "    print(\"n_depth =\", depth, \":\", f1_2)"
   ]
  },
  {
   "cell_type": "code",
   "execution_count": 26,
   "id": "e7c54936-5988-49e6-98b7-b1cb168e480d",
   "metadata": {},
   "outputs": [
    {
     "name": "stdout",
     "output_type": "stream",
     "text": [
      "0.67852001151742\n"
     ]
    }
   ],
   "source": [
    "probabilities_valid = model.predict_proba(features_valid)\n",
    "probabilities_one_valid = probabilities_valid[:, 1]\n",
    "\n",
    "\n",
    "auc_roc = roc_auc_score(target_valid, probabilities_one_valid)\n",
    "print(auc_roc)\n",
    "\n",
    "#Вывод - выбераю модель случайного леса, так как метрики F1 и roc_auc_score имеют наибольшие значения"
   ]
  },
  {
   "cell_type": "markdown",
   "id": "1b360911-6d75-44c3-8944-7928ce115721",
   "metadata": {},
   "source": [
    "## Борьба с дисбалансом"
   ]
  },
  {
   "cell_type": "code",
   "execution_count": 31,
   "id": "22410f35-30f3-4034-b1e2-cbd5220d35a1",
   "metadata": {},
   "outputs": [
    {
     "name": "stdout",
     "output_type": "stream",
     "text": [
      "0.5533333333333333\n"
     ]
    }
   ],
   "source": [
    "from sklearn.tree import DecisionTreeClassifier\n",
    "from sklearn.ensemble import RandomForestClassifier\n",
    "from sklearn.metrics import f1_score\n",
    "\n",
    "# Decision Tree Classifier\n",
    "model_balanced = DecisionTreeClassifier(random_state=12345, max_depth=6, class_weight='balanced')\n",
    "model_balanced.fit(features_train, target_train)\n",
    "\n",
    "predicted_valid = model_balanced.predict(features_valid)\n",
    "f1_balanced = f1_score(target_valid, predicted_valid)\n",
    "print(f1_balanced)"
   ]
  },
  {
   "cell_type": "code",
   "execution_count": 32,
   "id": "a3dec0d8-55ab-47c9-86d8-a2e28236acea",
   "metadata": {},
   "outputs": [
    {
     "name": "stdout",
     "output_type": "stream",
     "text": [
      "0.629399585921325\n"
     ]
    }
   ],
   "source": [
    "# Random Forest Classifier\n",
    "model_balanced1 = RandomForestClassifier(n_estimators=240, random_state=12345, max_depth=10, class_weight='balanced')\n",
    "model_balanced1.fit(features_train, target_train)\n",
    "\n",
    "predicted_valid1 = model_balanced1.predict(features_valid)\n",
    "f1_balanced1 = f1_score(target_valid, predicted_valid1)\n",
    "print(f1_balanced1)"
   ]
  },
  {
   "cell_type": "code",
   "execution_count": 33,
   "id": "3f4f1d33-7d4c-42fb-830f-82e29dbbe710",
   "metadata": {},
   "outputs": [],
   "source": [
    "from sklearn.utils import resample\n",
    "\n",
    "def upsample(features, target, coef):\n",
    "    features_zeros = features[target == 0]\n",
    "    features_ones = features[target == 1]\n",
    "    target_zeros = target[target == 0]\n",
    "    target_ones = target[target == 1]\n",
    "\n",
    "    # вычисляем количество строк мажоритарного класса\n",
    "    n_zeros = (target == 0).sum()\n",
    "    # вычисляем количество строк миноритарного класса\n",
    "    n_ones = (target == 1).sum()\n",
    "    # вычисляем количество строк, которые нужно добавить в миноритарный класс\n",
    "    n_upsampled = int((coef * n_zeros) - n_ones)\n",
    "\n",
    "    # выполняем перемешивание миноритарного класса\n",
    "    features_upsampled, target_upsampled = resample(features_ones, target_ones, \n",
    "                                                    n_samples=n_upsampled,\n",
    "                                                    random_state=123)\n",
    "\n",
    "    # объединяем перемешанный миноритарный класс с мажоритарным классом\n",
    "    features_balanced = pd.concat([features_zeros, features_upsampled])\n",
    "    target_balanced = pd.concat([target_zeros, target_upsampled])\n",
    "\n",
    "    return features_balanced, target_balanced\n",
    "\n",
    "# вызываем функцию upsample с коэффициентом увеличения выборки, основываясь на отношении количества строк мажоритарного класса к миноритарному классу в исходных данных\n",
    "features_upsampled, target_upsampled = upsample(features_train, target_train, (target_train == 0).sum() / (target_train == 1).sum())"
   ]
  },
  {
   "cell_type": "code",
   "execution_count": 36,
   "id": "f4449d74-ab68-490a-9a10-b64a961766d2",
   "metadata": {},
   "outputs": [
    {
     "name": "stdout",
     "output_type": "stream",
     "text": [
      "F1 на модели решающего дерева после апсэмплинга: 0.5024509803921569\n"
     ]
    }
   ],
   "source": [
    "# обучим модель решающего дерева с глубиной 6 на сбалансированных данных\n",
    "model_balanced2 = DecisionTreeClassifier(random_state=12345, max_depth=6)\n",
    "model_balanced2.fit(features_upsampled, target_upsampled)\n",
    "\n",
    "# сделаем предсказания на валидационной выборке и посчитаем f1-меру\n",
    "predicted_valid2 = model_balanced2.predict(features_valid)\n",
    "f1_balanced2 = f1_score(target_valid, predicted_valid2)\n",
    "print(\"F1 на модели решающего дерева после апсэмплинга:\", f1_balanced2)"
   ]
  },
  {
   "cell_type": "code",
   "execution_count": 38,
   "id": "ca628c34-4ab4-4e52-8482-1398eaaaf952",
   "metadata": {},
   "outputs": [
    {
     "name": "stdout",
     "output_type": "stream",
     "text": [
      "F1 на модели случайного леса после апсэмплинга: 0.519205298013245\n"
     ]
    }
   ],
   "source": [
    "# обучим модель случайного леса с 240 деревьями и глубиной 10 на сбалансированных данных\n",
    "model_balanced3 = RandomForestClassifier(n_estimators=240, random_state=12345, max_depth=10)\n",
    "model_balanced3.fit(features_upsampled, target_upsampled)\n",
    "\n",
    "# сделаем предсказания на валидационной выборке и посчитаем f1-меру\n",
    "predicted_valid3 = model_balanced3.predict(features_valid)\n",
    "f1_balanced3 = f1_score(target_valid, predicted_valid3)\n",
    "print(\"F1 на модели случайного леса после апсэмплинга:\", f1_balanced3)"
   ]
  },
  {
   "cell_type": "markdown",
   "id": "19989363-64d3-45b8-a8af-cecfb1f45dfa",
   "metadata": {},
   "source": [
    "## Тестирование модели"
   ]
  },
  {
   "cell_type": "code",
   "execution_count": 39,
   "id": "04ba50c5-5a3f-4731-8652-b1a62b252376",
   "metadata": {},
   "outputs": [
    {
     "name": "stdout",
     "output_type": "stream",
     "text": [
      "Accuracy: 0.84\n",
      "Precision: 0.85\n",
      "Recall: 0.84\n",
      "F1 Score: 0.84\n"
     ]
    }
   ],
   "source": [
    "model = RandomForestClassifier(n_estimators=100, random_state=12345, max_depth=10,  class_weight = 'balanced')\n",
    "model.fit(features_train, target_train)\n",
    "\n",
    "# Предсказание классов на тестовом наборе данных\n",
    "target_pred = model.predict(features_test)\n",
    "\n",
    "# Расчет метрик производительности модели\n",
    "from sklearn.metrics import accuracy_score, precision_score, recall_score, f1_score\n",
    "\n",
    "accuracy = accuracy_score(target_test, target_pred)\n",
    "precision = precision_score(target_test, target_pred, average='weighted')\n",
    "recall = recall_score(target_test, target_pred, average='weighted')\n",
    "f1 = f1_score(target_test, target_pred, average='weighted')\n",
    "\n",
    "# Вывод результатов\n",
    "print(f\"Accuracy: {accuracy:.2f}\")\n",
    "print(f\"Precision: {precision:.2f}\")\n",
    "print(f\"Recall: {recall:.2f}\")\n",
    "print(f\"F1 Score: {f1:.2f}\")"
   ]
  },
  {
   "cell_type": "code",
   "execution_count": 40,
   "id": "920bde8a-3e67-435d-b3e2-3bafd2b9424e",
   "metadata": {},
   "outputs": [
    {
     "name": "stdout",
     "output_type": "stream",
     "text": [
      "0.67852001151742\n"
     ]
    }
   ],
   "source": [
    "auc_roc = roc_auc_score(target_valid, probabilities_one_valid)\n",
    "print(auc_roc)"
   ]
  },
  {
   "cell_type": "markdown",
   "id": "9680551e-d9c0-473b-ad08-9e2771513799",
   "metadata": {},
   "source": [
    "Данный проект посвящен задаче банковского скоринга, цель которой заключается в определении вероятности возврата кредита клиентом банка.\n",
    "\n",
    "В рамках проекта были выполнены следующие шаги:\n",
    "\n",
    "Была проведена предобработка данных. Были удалены дубликаты, заполнены пропуски в данных, а также удалены аномальные значения. Были произведены изменения типов данных для удобства дальнейшей работы с данными.\n",
    "\n",
    "Данные были разделены на обучающую, валидационную и тестовую выборки в соотношении 3:1:1.\n",
    "\n",
    "Была проведена работа с дисбалансом классов в целевом признаке. Поскольку в выборке наблюдался дисбаланс, были применены техники upsampling и downsampling, которые помогли уравнять число объектов в каждом из классов.\n",
    "\n",
    "Были обучены модели машинного обучения для решения задачи банковского скоринга на несбалансированных и сбалансированных данных. В качестве моделей использовались решающее дерево, случайный лес и логистическая регрессия.\n",
    "\n",
    "После обучения моделей была произведена оценка качества работы каждой модели на валидационной выборке. Максимальное значение F1-меры на несбалансированных данных достигло 0.54 для модели случайного леса, на сбалансированных данных - 0.52 для модели случайного леса и 0.51 для модели решающего дерева.\n",
    "\n",
    "Были произведены финальные тесты на тестовой выборке, которые показали наилучшее значение метрики F1-меры для модели случайного леса на сбалансированных данных и составило 0.84. При этом, также были рассчитаны значения других метрик, таких как Accuracy, Precision, Recall, и AUC-ROC.</font>"
   ]
  },
  {
   "cell_type": "markdown",
   "id": "3c759b0f-b63d-47aa-8253-51c535a3b904",
   "metadata": {},
   "source": [
    "Ссылка на репозиторий"
   ]
  },
  {
   "cell_type": "markdown",
   "id": "2a8a50cb-be75-49d3-81a0-043c27cab2b4",
   "metadata": {},
   "source": [
    "https://github.com/TimurChestnov/first-project"
   ]
  },
  {
   "cell_type": "code",
   "execution_count": null,
   "id": "21a838b4-0a6f-45aa-aa67-8c4421630302",
   "metadata": {},
   "outputs": [],
   "source": []
  }
 ],
 "metadata": {
  "kernelspec": {
   "display_name": "Python 3 (ipykernel)",
   "language": "python",
   "name": "python3"
  },
  "language_info": {
   "codemirror_mode": {
    "name": "ipython",
    "version": 3
   },
   "file_extension": ".py",
   "mimetype": "text/x-python",
   "name": "python",
   "nbconvert_exporter": "python",
   "pygments_lexer": "ipython3",
   "version": "3.10.9"
  }
 },
 "nbformat": 4,
 "nbformat_minor": 5
}
